{
 "cells": [
  {
   "cell_type": "markdown",
   "metadata": {},
   "source": [
    "# PHF TEST for SOM Energia indexed invoicing\n",
    "set module path in PYTHONPATH , i.e. /home/erp/src/giscedata_facturacio_indexada_som"
   ]
  },
  {
   "cell_type": "markdown",
   "metadata": {},
   "source": [
    "# Configuration\n",
    "  * **tariff_name**: Tarifa i.e 2.0A, 3.0A ...\n",
    "  * **start_date_str**: Initial invoice date at 01:00:00 (yyyy-mm-dd)\n",
    "  * **end_date_str**: Final invoice date at 00:00:00 (yyyy-mm-dd)\n",
    "  * **curve_origin**: 'tpl' or 'profile'\n",
    "\n",
    "## versions \n",
    "Not ESIOS params\n",
    "  \n",
    "  * **imu**: Impost Municipal en [%]\n",
    "  * **d**: Desviaments [€/kWh]\n",
    "  * **k**: Coeficient / Marge comercial [€/kWh]\n",
    "  * **omie**: Cuota omie/ree [€/MWh]\n",
    "  * **fe**: Fons Eficiència [€/MWh]\n",
    "  * **atr**: Diccionari Peatges per periode {P1: 0, P2: ... , Pn: ...} en [€/kWh]\n",
    "  * **pc**: Diccionari Pagos Capacidad per periode {P1: 0, P2: ... , Pn: ...} en [€/kWh]\n",
    "\n",
    "## Profiling\n",
    "Data to profile by REE coeficients\n",
    "\n",
    "  * **profile_consume**: Diccionari amb consum a perfilar per períodes {P1: , P2:, ..., Pn:} en [kWh] \n",
    "\n",
    "## File (TPL)\n",
    "  * **filename**: ruta al fitxer amb la corba\n",
    "  El format ha de ser:\n",
    "    [data/hora];[valor]\n",
    "   \n",
    "  On \n",
    "  * **data/hora**: no s'utilitza però serveix per l'usuari\n",
    "  * **valor**: consum horari en [W]\n",
    "  \n",
    "  Hi ha d'haver una línia per hora , 24 hores per dia (i.e 30 dies x 24 h = 720)\n",
    "  "
   ]
  },
  {
   "cell_type": "code",
   "execution_count": null,
   "metadata": {
    "collapsed": true
   },
   "outputs": [],
   "source": [
    "tariff_name = '6.1A'\n",
    "start_date_str = '2017-04-01'\n",
    "end_date_str = '2017-05-01'\n",
    "#curve_origin = 'profile'\n",
    "curve_origin = 'tpl'\n",
    "versions = dict(\n",
    "    imu = 1.5,\n",
    "    d = 0.00025,\n",
    "    k = 0.002,\n",
    "    omie = 0.13341,\n",
    "    fe = 0.27,\n",
    "    atr = {'P1': 0.018762, 'P2': 0.012575, 'P3': 0.004670, 'P4': 0.0018762, 'P5': 0.012575, 'P6': 0.004670},\n",
    "    pc = {'P1': 0.008374, 'P2': 0.004304, 'P3': 0.000058, 'P4': 0.008374, 'P5': 0.004304, 'P6': 0.000058},\n",
    ")\n",
    "profile_consume = {'P1': 1000, 'P2': 2000, 'P3': 3000, 'P4': 300, 'P5': 600, 'P6': 900}\n",
    "#curve_filename = '/home/index/corbes/corba.csv'\n",
    "curve_filename = '/home/index/corbes/vorgran201804.csv'"
   ]
  },
  {
   "cell_type": "code",
   "execution_count": null,
   "metadata": {
    "collapsed": true
   },
   "outputs": [],
   "source": [
    "from tarifes import *\n",
    "import copy\n",
    "from datetime import datetime, date\n",
    "from enerdata.datetime.holidays import get_holidays\n",
    "from enerdata.contracts.tariff import *\n",
    "from enerdata.profiles.profile import *\n",
    "from enerdata.metering.measure import *\n",
    "from profile import REEInitalProfile\n",
    "import csv\n",
    "import copy\n",
    "from calendar import monthrange"
   ]
  },
  {
   "cell_type": "code",
   "execution_count": null,
   "metadata": {
    "collapsed": true
   },
   "outputs": [],
   "source": [
    "from libfacturacioatr.pool.component import *"
   ]
  },
  {
   "cell_type": "code",
   "execution_count": null,
   "metadata": {
    "collapsed": true
   },
   "outputs": [],
   "source": [
    "peatge = {\n",
    "    '3.0A': {'P1': 0.018762, 'P2': 0.012575, 'P3': 0.004670, 'P4': 0.0018762, 'P5': 0.012575, 'P6': 0.004670},\n",
    "    '6.1A': {'P1': 0.026674, 'P2': 0.019921, 'P3': 0.010615, 'P4': 0.005283, 'P5': 0.003411, 'P6': 0.002137}\n",
    "}\n",
    "pagos_capacidad = {\n",
    "    '3.0A': {'P1': 0.008374, 'P2': 0.004304, 'P3': 0.000058, 'P4': 0.008374, 'P5': 0.004304, 'P6': 0.000058},\n",
    "    '3.1A': {'P1': 0.006432, 'P2': 0.003463, 'P3': 0.000000, 'P4': 0.006432, 'P5': 0.003463, 'P6': 0.0},\n",
    "    '6.1A': {'P1': 0.006432, 'P2': 0.002969, 'P3': 0.001979, 'P4': 0.001484, 'P5': 0.001484, 'P6': 0.0},\n",
    "    '6.1B': {'P1': 0.006432, 'P2': 0.002969, 'P3': 0.001979, 'P4': 0.001484, 'P5': 0.001484, 'P6': 0.0},\n",
    "}\n",
    "tariff_classes = {\n",
    "    '3.0A': Tarifa30APoolSOM,\n",
    "    '3.1A': Tarifa31APoolSOM,\n",
    "    '6.1A': Tarifa61APoolSOM,\n",
    "    '6.1B': Tarifa61BPoolSOM,\n",
    "}\n",
    "atr = peatge[tariff_name]\n",
    "pc = pagos_capacidad[tariff_name]\n",
    "esios = '67c6aff80ca331eec78e1f62b7ffc6799e2674d82d57c04104a612db43496db3'\n",
    "# calc Holidays\n",
    "start_date = datetime.strptime(start_date_str, '%Y-%m-%d')\n",
    "end_date = datetime.strptime(end_date_str, '%Y-%m-%d')\n",
    "HOLIDAYS = []\n",
    "for d in [start_date, end_date]:\n",
    "    HOLIDAYS.extend(get_holidays(start_date.year))\n",
    "HOLIDAYS = set(HOLIDAYS)\n",
    "HOLIDAYS\n",
    "TariffClass = tariff_classes[tariff_name]"
   ]
  },
  {
   "cell_type": "code",
   "execution_count": null,
   "metadata": {
    "collapsed": true,
    "scrolled": true
   },
   "outputs": [],
   "source": [
    "curve_factor = 1000.0 # W: 1 kW: 1000\n",
    "print start_date\n",
    "print end_date\n",
    "versions"
   ]
  },
  {
   "cell_type": "code",
   "execution_count": null,
   "metadata": {
    "collapsed": true
   },
   "outputs": [],
   "source": [
    "## Profiling code\n",
    "\n",
    "TARIFFS = {\n",
    "    '2.0A': T20A,\n",
    "    '2.0DHA': T20DHA,\n",
    "    '2.0DHS': T20DHS,\n",
    "    '2.1A': T21A,\n",
    "    '2.1DHA': T21DHA,\n",
    "    '2.1DHS': T21DHS,\n",
    "    '3.0A': T30A,\n",
    "    '3.1A': T31A\n",
    "}\n",
    "def array_padding(array, length, value=0):\n",
    "    return array + ([value] * (length - len(array)))\n",
    "\n",
    "def get_cofs(start, end):\n",
    "    c = Coefficients()\n",
    "\n",
    "    while start <= end:\n",
    "        cofs = REEProfile.get(start.year, start.month)\n",
    "\n",
    "        c.insert_coefs(cofs)\n",
    "        # Add one month but always day 1 to avoid month skip, ie\n",
    "        # 2015-11-04 > 2015-11-02\n",
    "        start += relativedelta(months=1, day=1)\n",
    "\n",
    "    return c\n",
    "\n",
    "def get_profiled_curve(start, end, tariff, consumes):\n",
    "    t = TARIFFS[tariff]()\n",
    "    \n",
    "    measures = []\n",
    "    curve_start = datetime.combine(start_date, datetime.min.time())\n",
    "    curve_end = datetime.combine(end_date - relativedelta(days=1), datetime.min.time())\n",
    "    for period, consume in consumes.items():\n",
    "        # start \n",
    "        measures.append(\n",
    "             EnergyMeasure(\n",
    "                 start_date.date(),\n",
    "                 TariffPeriod(period, 'te'), 0 * 1000,\n",
    "                 consumption=0 * 1000\n",
    "             )\n",
    "        )\n",
    "        # end \n",
    "        measures.append(\n",
    "             EnergyMeasure(\n",
    "                 curve_end.date(),\n",
    "                 TariffPeriod(period, 'te'), consume * 1000,\n",
    "                 consumption=consume * 1000\n",
    "             )\n",
    "        )\n",
    "\n",
    "        coefs = get_cofs(curve_start, curve_end)\n",
    "        profiler = Profiler(coefs)\n",
    "        \n",
    "        consums = {}\n",
    "        drag = 'period'\n",
    "        \n",
    "        for hour, vals in profiler.profile(t, measures, drag_method=drag):\n",
    "            d = hour.date()\n",
    "            # Hacky patch to work for both systems REE Style number of hours\n",
    "            # and Esios style datetimes\n",
    "            first_hour = getattr(profiler.coefficient, 'first_hour', 1)\n",
    "            if first_hour == 1:\n",
    "                if hour.hour == 0:\n",
    "                    d -= timedelta(days=1)\n",
    "            consums.setdefault(d, [])\n",
    "            consums[d].append(vals['aprox'])\n",
    "        # print consums\n",
    "        curve = []\n",
    "        for day,hours in sorted(consums.items()):\n",
    "            curve.append(array_padding(hours, 25))\n",
    "            \n",
    "    return curve"
   ]
  },
  {
   "cell_type": "code",
   "execution_count": null,
   "metadata": {
    "collapsed": true
   },
   "outputs": [],
   "source": [
    "## TPL code \n",
    "def get_tpl_curve(filename):\n",
    "    curve_data = []\n",
    "    day = []\n",
    "    with open(filename, 'rb') as tplfile:\n",
    "        curve = csv.reader(tplfile, delimiter=';')\n",
    "        hour = 0\n",
    "        for line in curve:\n",
    "            day.append(int(line[1]))\n",
    "            if hour < 23:\n",
    "                hour+=1\n",
    "            else:\n",
    "                hour=0\n",
    "                day.append(0)\n",
    "                curve_data.append(day)\n",
    "                day = copy.copy([])\n",
    "\n",
    "        return curve_data\n",
    "                \n",
    "#curve_data = []\n",
    "# fixe\n",
    "#curve_data = [[0, 1000, 0, 1000, 0, 1000, 0, 1000, 0, 1000, 0, 0, 1000, 0, 1000, 0, 0, 0, 3000, 3000, 2000, 3000, 1000, 0, 0], [0, 1000, 0, 1000, 0, 1000, 0, 1000, 0, 0, 1000, 0, 1000, 0, 0, 1000, 0, 0, 3000, 3000, 2000, 3000, 0, 1000, 0], [0, 1000, 0, 1000, 0, 1000, 0, 1000, 0, 0, 1000, 0, 0, 1000, 0, 0, 1000, 0, 2000, 3000, 3000, 2000, 0, 0, 0], [0, 1000, 0, 0, 0, 1000, 0, 0, 1000, 0, 1000, 0, 0, 1000, 0, 1000, 0, 0, 0, 0, 1000, 0, 1000, 0, 0], [1000, 0, 0, 1000, 0, 0, 0, 1000, 0, 1000, 0, 0, 1000, 0, 0, 1000, 0, 0, 0, 0, 0, 1000, 1000, 0, 0], [0, 1000, 0, 1000, 0, 1000, 0, 1000, 1000, 0, 0, 1000, 0, 1000, 0, 0, 0, 1000, 3000, 3000, 2000, 3000, 0, 0, 0], [0, 1000, 0, 0, 1000, 0, 1000, 1000, 0, 1000, 0, 0, 1000, 0, 1000, 0, 0, 0, 2000, 3000, 3000, 2000, 1000, 0, 0], [0, 0, 1000, 0, 1000, 0, 1000, 0, 0, 0, 1000, 0, 1000, 0, 0, 1000, 0, 0, 3000, 3000, 2000, 3000, 0, 1000, 0], [1000, 0, 1000, 0, 1000, 0, 1000, 0, 0, 0, 1000, 0, 0, 1000, 0, 0, 1000, 0, 3000, 3000, 2000, 3000, 0, 0, 0], [1000, 0, 1000, 0, 1000, 0, 1000, 1000, 1000, 0, 0, 1000, 0, 1000, 0, 0, 1000, 0, 2000, 3000, 3000, 3000, 0, 0, 0], [0, 0, 1000, 0, 0, 1000, 0, 0, 0, 1000, 0, 1000, 0, 1000, 0, 1000, 0, 0, 0, 0, 0, 0, 1000, 0, 0], [1000, 0, 0, 0, 1000, 0, 0, 1000, 0, 1000, 0, 0, 1000, 0, 1000, 0, 0, 1000, 1000, 0, 0, 0, 0, 0, 0], [0, 0, 1000, 0, 1000, 0, 1000, 0, 1000, 0, 0, 1000, 0, 0, 1000, 0, 0, 1000, 2000, 3000, 3000, 2000, 0, 0, 0], [1000, 0, 1000, 0, 1000, 0, 1000, 0, 0, 1000, 0, 0, 1000, 0, 0, 1000, 0, 0, 3000, 3000, 2000, 3000, 1000, 0, 0], [1000, 0, 1000, 0, 0, 1000, 0, 1000, 0, 0, 1000, 0, 1000, 0, 0, 0, 1000, 0, 2000, 3000, 3000, 2000, 0, 0, 0], [1000, 0, 0, 1000, 0, 1000, 0, 1000, 1000, 0, 0, 1000, 0, 1000, 0, 0, 0, 1000, 3000, 3000, 2000, 2000, 0, 0, 0], [0, 1000, 0, 1000, 0, 1000, 0, 1000, 0, 1000, 0, 1000, 0, 0, 1000, 0, 0, 0, 3000, 3000, 3000, 2000, 1000, 0, 0], [0, 0, 1000, 0, 0, 0, 1000, 0, 1000, 0, 0, 1000, 0, 1000, 0, 1000, 0, 0, 0, 0, 1000, 0, 1000, 0, 0], [0, 1000, 0, 0, 1000, 0, 0, 0, 0, 1000, 0, 0, 1000, 0, 0, 1000, 0, 0, 0, 0, 0, 1000, 1000, 0, 0], [0, 1000, 0, 1000, 0, 0, 1000, 0, 0, 0, 1000, 0, 1000, 0, 0, 0, 1000, 0, 3000, 2000, 3000, 2000, 0, 0, 0], [1000, 0, 1000, 0, 1000, 0, 1000, 0, 1000, 0, 0, 1000, 0, 0, 1000, 0, 0, 1000, 3000, 3000, 2000, 2000, 0, 0, 0], [1000, 0, 1000, 0, 0, 1000, 0, 1000, 0, 1000, 0, 0, 1000, 0, 0, 1000, 0, 0, 3000, 3000, 2000, 3000, 1000, 0, 0], [1000, 0, 0, 1000, 0, 1000, 0, 1000, 0, 0, 1000, 0, 0, 1000, 0, 0, 1000, 0, 2000, 3000, 3000, 2000, 0, 0, 0], [0, 1000, 0, 1000, 0, 1000, 0, 1000, 1000, 0, 0, 1000, 0, 0, 1000, 0, 0, 1000, 3000, 2000, 3000, 2000, 0, 0, 0], [1000, 0, 0, 1000, 0, 0, 0, 1000, 0, 1000, 0, 0, 1000, 0, 1000, 0, 0, 1000, 0, 0, 0, 0, 0, 1000, 0], [0, 0, 1000, 0, 0, 0, 1000, 0, 0, 0, 0, 1000, 0, 0, 1000, 0, 0, 1000, 0, 1000, 0, 0, 0, 0, 0], [0, 1000, 0, 0, 1000, 0, 1000, 0, 0, 1000, 0, 0, 1000, 0, 0, 1000, 0, 0, 3000, 3000, 2000, 2000, 0, 0, 0], [1000, 0, 1000, 0, 0, 1000, 0, 1000, 1000, 0, 0, 1000, 0, 1000, 0, 0, 0, 1000, 3000, 2000, 3000, 2000, 0, 0, 0]]\n",
    "#[[0, 1000, 0, 1000, 0, 1000, 0, 1000, 0, 1000, 0, 0, 1000, 0, 0, 1000, 0, 0, 3000, 3000, 2000, 3000, 1000, 0, 0],[0, 1000, 0, 1000, 0, 1000, 0, 1000, 0, 0, 1000, 0, 1000, 0, 0, 0, 1000, 0, 2000, 3000,3000,2000, 0, 0, 0],[0, 1000, 0, 1000, 0, 0, 1000, 1000, 1000, 0, 1000, 0, 0, 1000, 0, 0, 0, 1000, 3000, 3000, 2000, 2000, 0, 0, 0],[0, 1000, 0, 0, 0, 1000, 0, 0, 1000, 0, 1000, 0, 0, 1000, 0, 1000,0,0, 0, 0, 1000, 0, 1000, 0, 0],[1000, 0, 0, 1000, 0, 0, 0, 1000, 0, 1000, 0, 0, 1000, 0, 0, 1000, 0, 0, 0, 0, 0, 1000, 1000, 0, 0],[0, 1000, 0, 0, 1000, 0, 1000, 0, 0, 1000, 0, 1000, 0, 0, 1000, 0,0,0, 3000, 3000, 3000, 2000, 1000, 0, 0],[1000, 0, 1000, 0, 1000, 0, 1000, 0, 0, 0, 1000, 0, 1000, 0, 0, 1000, 0, 0, 3000, 2000, 3000, 2000, 0, 1000, 0],[1000, 0, 1000, 0, 0, 1000, 0, 1000, 0, 0, 1000,0,0, 1000, 0, 0, 1000, 0, 3000, 3000, 3000, 2000, 0, 0, 0],[1000, 0, 0, 1000, 0, 1000, 0, 1000, 1000, 0, 0, 1000, 0, 0, 1000, 0, 0, 1000, 3000, 3000, 2000, 2000, 0, 0, 0],[0, 1000, 0, 1000, 0, 1000,0,1000, 0, 1000, 0, 0, 1000, 0, 0, 1000, 0, 0, 3000, 3000, 2000, 3000, 0, 0, 0],[0, 0, 1000, 0, 0, 1000, 0, 0, 0, 1000, 0, 1000, 0, 1000, 0, 0, 1000, 0, 0, 0, 0, 0, 1000, 0, 0],[0, 1000, 0, 0, 1000,0, 0, 1000, 0, 1000, 0, 0, 1000, 0, 0, 1000, 0, 0, 0, 1000, 0, 0, 1000, 1000, 0],[0, 1000, 0, 1000, 0, 0, 1000, 1000, 0, 0, 1000, 0, 0, 1000, 0, 0, 1000, 0, 2000, 3000, 3000, 2000, 0, 0, 0],[0, 1000, 0, 0,1000, 0, 1000, 0, 1000, 0, 0, 1000, 0, 0, 1000, 0, 0, 1000, 3000, 3000, 2000, 3000, 0, 0, 0],[1000, 0, 1000, 0, 1000, 0, 1000, 0, 0, 1000, 0, 0, 1000, 0, 0, 1000, 0, 0, 2000, 3000, 3000, 2000, 1000, 0, 0],[1000, 0, 1000, 0, 1000, 0, 1000, 0, 0, 0, 1000, 0, 1000, 0, 0, 0, 1000, 0, 3000, 3000, 2000, 3000, 0, 0, 0],[1000, 0, 1000, 0, 0, 1000, 0, 1000, 1000, 0, 1000, 0, 0, 1000, 0, 0, 0, 1000, 2000, 3000,3000, 2000, 0, 0, 0],[0, 0, 0, 1000, 0, 0, 1000, 0, 0, 1000, 0, 0, 1000, 0, 1000, 0, 1000, 0, 0, 0, 1000, 0, 0, 1000, 0],[0, 1000, 0, 0, 0, 1000, 0, 0, 0, 0, 1000, 0, 0, 1000, 0, 0, 1000, 0, 0, 0, 0,1000, 0, 0, 0],[1000, 0, 0, 1000, 0, 1000, 0, 1000, 0, 1000, 0, 1000, 0, 0, 1000, 0, 0, 0, 3000, 3000, 2000, 2000, 1000, 0, 0],[0, 1000, 0, 1000, 0, 1000, 0, 1000, 0, 0, 1000, 0, 1000, 0, 0, 1000, 0, 0,3000, 3000, 3000, 2000, 0, 1000, 0],[0, 1000, 0, 1000, 0, 0, 1000, 1000, 0, 0, 1000, 0, 0, 1000, 0, 0, 1000, 0, 3000, 2000, 3000, 2000, 0, 0, 0],[0, 1000, 0, 0, 1000, 0, 1000, 0, 1000, 0, 0, 1000, 0, 0,1000, 0, 0, 1000, 3000, 3000, 3000, 2000, 0, 0, 0],[1000, 0, 1000, 0, 1000, 0, 1000, 0, 0, 1000, 0, 0, 1000, 0, 0, 1000, 0, 0, 2000, 3000, 3000, 2000, 0, 1000, 0],[1000, 0, 0, 0, 1000, 0, 0, 1000, 0, 0,1000, 0, 1000, 0, 1000, 0, 0, 1000, 0, 0, 0, 0, 0, 0, 0],[0, 0, 1000, 0, 0, 0, 1000, 0, 1000, 0, 0, 1000, 0, 0, 1000, 0, 0, 1000, 0, 1000, 0, 0, 0, 1000, 0],[1000, 0, 1000, 0, 1000, 0, 0, 1000, 0, 0,1000, 0, 0, 1000, 0, 0, 1000, 0, 3000, 3000, 2000, 2000, 0, 0, 0],[1000, 0, 0, 1000, 0, 1000, 0, 1000, 1000, 0, 0, 1000, 0, 0, 1000, 0, 0, 1000, 3000, 3000, 3000, 2000, 0, 0, 0]]\n",
    "# generada\n",
    "#for day in range(0, 28):\n",
    "#    day = copy.copy([1000.0] * 24)\n",
    "#    day.append(0.0)\n",
    "#    curve_data.append(day)\n",
    "     "
   ]
  },
  {
   "cell_type": "code",
   "execution_count": null,
   "metadata": {
    "collapsed": true
   },
   "outputs": [],
   "source": [
    "curve_end = end_date - relativedelta(days=1)\n",
    "if curve_origin == 'tpl':\n",
    "    curve_data = get_tpl_curve(curve_filename)\n",
    "if curve_origin == 'profile':\n",
    "    curve_data = get_profiled_curve(start_date, end_date, tariff_name, profile_consume)    \n",
    "\n",
    "print curve_data\n",
    "curve = Curve(start_date, curve_origin.upper())\n",
    "curve.load(curve_data)\n",
    "consums = {\n",
    "    'activa': {start_date_str: {'start': start_date,'end': curve_end,'profile': curve_data}},\n",
    "    'reactiva': {'P1': 1, 'P2': 2, 'P3': 3, 'P4': 4, 'P5': 5, 'P6': 6 }\n",
    "}\n",
    "print curve.total_sum"
   ]
  },
  {
   "cell_type": "code",
   "execution_count": null,
   "metadata": {
    "collapsed": true
   },
   "outputs": [],
   "source": [
    "tarifa = TariffClass(\n",
    "    consums, {},\n",
    "    start_date_str, end_date_str,\n",
    "    facturacio=1, facturacio_potencia='max',\n",
    "    data_inici_periode=start_date_str,\n",
    "    data_final_periode=end_date_str,\n",
    "    potencies_contractades={'P1': 20, 'P2': 20, 'P3': 20},\n",
    "    versions={start_date_str: versions},\n",
    "    holidays=HOLIDAYS,\n",
    "    esios_token=esios,\n",
    "    audit=['curve', 'pmd', 'phf', 'pc3_ree', 'perdues'],\n",
    ")\n",
    "tarifa.update_dates_consums(\n",
    "    tarifa.data_inici,\n",
    "    tarifa.data_final\n",
    ")"
   ]
  },
  {
   "cell_type": "code",
   "execution_count": null,
   "metadata": {
    "collapsed": true
   },
   "outputs": [],
   "source": [
    "phf = tarifa.phf_calc(curve, start_date)\n",
    "str(phf)"
   ]
  },
  {
   "cell_type": "code",
   "execution_count": null,
   "metadata": {
    "collapsed": true
   },
   "outputs": [],
   "source": [
    "print \"curve total: {} PHF total: {}\".format(curve.total_sum, phf.total_sum)"
   ]
  },
  {
   "cell_type": "code",
   "execution_count": null,
   "metadata": {
    "collapsed": true
   },
   "outputs": [],
   "source": [
    "last_month_day = monthrange(start_date.year, start_date.month)[1]\n",
    "file_prefix = \"{0}_{1}\".format(\n",
    "    datetime.strftime(start_date,'%Y%m%d'),\n",
    "    datetime.strftime(datetime(start_date.year, start_date.month, last_month_day) ,'%Y%m%d'))\n",
    "prgpncur = Prgpncur('C2_prgpncur_{0}'.format(file_prefix), esios)\n",
    "prmncur = Prmncur('C2_prmncur_{0}'.format(file_prefix), esios)\n",
    "perdclass_name = tarifa.perdclass.name\n",
    "perdues = tarifa.perdclass('C2_{0}_{1}'.format(perdclass_name,file_prefix), esios)"
   ]
  },
  {
   "cell_type": "code",
   "execution_count": null,
   "metadata": {
    "collapsed": true
   },
   "outputs": [],
   "source": [
    "dia = 1                              # 1 a fi mes \n",
    "hora = 1                             # 0 a 25 (p.e. les 10:00 -> 9)\n",
    "period_name = 'P3'                   # Període de la la hora seleccionada\n",
    "IMU = versions['imu'] * 0.01         # en %\n",
    "PMD = prmncur.get(dia, hora) * 0.001      # en €/MWh\n",
    "PC3_REE = prgpncur.get(dia, hora) * 0.001     # en €/MWh\n",
    "PC3 = versions['pc'][period_name]           # en €/kWh\n",
    "OMIE_REE = versions['omie'] * 0.001  # en €/MWh\n",
    "PERD = perdues.get(dia, hora) * 0.01      # en %\n",
    "K = versions['k']            # en €/kWh\n",
    "D = versions['d']            # en €/kWh\n",
    "FONDO_EFI = versions['fe'] * 0.001   # en €/MWh\n",
    "PA = versions['atr'][period_name]    # en €/kWh\n",
    "\n",
    "PHF = (1 + IMU) * ((PMD - PC3_REE + PC3 + OMIE_REE) * (1 + PERD) + K + D + FONDO_EFI ) + PA\n",
    "'{PHF} = (1 + {IMU}) * (({PMD} - {PC3_REE} + {PC3} + {OMIE_REE}) * (1 + {PERD}) + {K} + {D} + {FONDO_EFI}) + {PA}'.format(**locals())"
   ]
  },
  {
   "cell_type": "code",
   "execution_count": null,
   "metadata": {
    "collapsed": true
   },
   "outputs": [],
   "source": [
    "print '{0} €/kWh = {1} € / {2} kWh'.format(phf.get(dia, hora) / (curve.get(dia, hora) / curve_factor), phf.get(dia, hora) ,(curve.get(dia, hora) / curve_factor))  "
   ]
  },
  {
   "cell_type": "code",
   "execution_count": null,
   "metadata": {
    "collapsed": true,
    "scrolled": true
   },
   "outputs": [],
   "source": [
    "res = tarifa.factura_energia()\n",
    "res"
   ]
  },
  {
   "cell_type": "code",
   "execution_count": null,
   "metadata": {
    "collapsed": true
   },
   "outputs": [],
   "source": [
    "from libfacturacioatr.pool.tarifes import aggr_version_comp\n",
    "if tarifa.aggr_active:\n",
    "    linies = aggr_version_comp(res[start_date_str])\n",
    "else:\n",
    "    linies = res[start_date_str]"
   ]
  },
  {
   "cell_type": "code",
   "execution_count": null,
   "metadata": {
    "collapsed": true
   },
   "outputs": [],
   "source": [
    "for k in sorted(linies.keys()):\n",
    "    print(\"{0}: {1} kWh\".format(k,sum(linies[k]['consum'])))\n",
    "                                "
   ]
  },
  {
   "cell_type": "code",
   "execution_count": null,
   "metadata": {
    "collapsed": true
   },
   "outputs": [],
   "source": [
    "for k in sorted(linies.keys()):\n",
    "    print(\"{0}: {1} kWh\".format(k,sum(linies[k]['cost'])))"
   ]
  },
  {
   "cell_type": "code",
   "execution_count": null,
   "metadata": {
    "collapsed": true
   },
   "outputs": [],
   "source": [
    "for k in sorted(linies.keys()):\n",
    "    print(\"{0}: {1} kWh\".format(k,sum(linies[k]['cost']) / (sum(linies[k]['consum']) or 1.0 )))"
   ]
  },
  {
   "cell_type": "code",
   "execution_count": null,
   "metadata": {
    "collapsed": true
   },
   "outputs": [],
   "source": [
    "tarifa.get_audit_data('pmd')"
   ]
  },
  {
   "cell_type": "code",
   "execution_count": null,
   "metadata": {
    "collapsed": true
   },
   "outputs": [],
   "source": [
    "tarifa.get_audit_data('curve')"
   ]
  },
  {
   "cell_type": "code",
   "execution_count": null,
   "metadata": {
    "collapsed": true
   },
   "outputs": [],
   "source": [
    "tarifa.get_audit_data('pc3_ree')"
   ]
  },
  {
   "cell_type": "code",
   "execution_count": null,
   "metadata": {
    "collapsed": true
   },
   "outputs": [],
   "source": [
    "tarifa.get_audit_data('perdues')"
   ]
  },
  {
   "cell_type": "code",
   "execution_count": null,
   "metadata": {
    "collapsed": true
   },
   "outputs": [],
   "source": [
    "tarifa.get_audit_data('phf')"
   ]
  },
  {
   "cell_type": "code",
   "execution_count": null,
   "metadata": {
    "collapsed": true
   },
   "outputs": [],
   "source": [
    "tarifa.dump_audit_data('pmd', '/home/index/corbes/PMD.txt')"
   ]
  },
  {
   "cell_type": "code",
   "execution_count": null,
   "metadata": {
    "collapsed": true
   },
   "outputs": [],
   "source": [
    "tarifa.dump_audit_data('pc3_ree', '/home/index/corbes/PC3_REE.txt')"
   ]
  },
  {
   "cell_type": "code",
   "execution_count": null,
   "metadata": {
    "collapsed": true
   },
   "outputs": [],
   "source": [
    "tarifa.dump_audit_data('perdues', '/home/index/corbes/PERDUES.txt')"
   ]
  },
  {
   "cell_type": "code",
   "execution_count": null,
   "metadata": {
    "collapsed": true
   },
   "outputs": [],
   "source": [
    "tarifa.dump_audit_data('curve', '/home/index/corbes/CURVE.txt')"
   ]
  },
  {
   "cell_type": "code",
   "execution_count": null,
   "metadata": {
    "collapsed": true
   },
   "outputs": [],
   "source": [
    "tarifa.dump_audit_data('phf', '/home/index/corbes/PHF.txt')"
   ]
  },
  {
   "cell_type": "code",
   "execution_count": null,
   "metadata": {
    "collapsed": true
   },
   "outputs": [],
   "source": [
    "tarifa.consums['activa']"
   ]
  },
  {
   "cell_type": "code",
   "execution_count": null,
   "metadata": {
    "collapsed": true
   },
   "outputs": [],
   "source": [
    "len(curve_data[0])"
   ]
  },
  {
   "cell_type": "code",
   "execution_count": null,
   "metadata": {
    "collapsed": true
   },
   "outputs": [],
   "source": []
  },
  {
   "cell_type": "code",
   "execution_count": null,
   "metadata": {
    "collapsed": true
   },
   "outputs": [],
   "source": []
  }
 ],
 "metadata": {
  "kernelspec": {
   "display_name": "Python 2",
   "language": "python",
   "name": "python2"
  },
  "language_info": {
   "codemirror_mode": {
    "name": "ipython",
    "version": 2
   },
   "file_extension": ".py",
   "mimetype": "text/x-python",
   "name": "python",
   "nbconvert_exporter": "python",
   "pygments_lexer": "ipython2",
   "version": "2.7.3"
  }
 },
 "nbformat": 4,
 "nbformat_minor": 2
}
